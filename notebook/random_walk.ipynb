{
 "cells": [
  {
   "cell_type": "code",
   "execution_count": 1,
   "metadata": {
    "ExecuteTime": {
     "end_time": "2020-02-07T05:47:10.548954Z",
     "start_time": "2020-02-07T05:47:10.062430Z"
    }
   },
   "outputs": [],
   "source": [
    "%matplotlib inline\n",
    "import matplotlib.pyplot as plt\n",
    "import numpy as np"
   ]
  },
  {
   "cell_type": "code",
   "execution_count": 15,
   "metadata": {
    "ExecuteTime": {
     "end_time": "2020-02-07T06:01:38.608976Z",
     "start_time": "2020-02-07T06:01:38.596435Z"
    }
   },
   "outputs": [
    {
     "data": {
      "text/plain": [
       "array([-0.01535351, -0.5319249 , -1.66412157, ..., -0.35529907,\n",
       "       -0.44420375, -0.30539867])"
      ]
     },
     "execution_count": 15,
     "metadata": {},
     "output_type": "execute_result"
    }
   ],
   "source": [
    "random_walk = np.random.randn(100000)\n",
    "random_walk"
   ]
  },
  {
   "cell_type": "code",
   "execution_count": 16,
   "metadata": {
    "ExecuteTime": {
     "end_time": "2020-02-07T06:01:40.414733Z",
     "start_time": "2020-02-07T06:01:38.745700Z"
    },
    "scrolled": false
   },
   "outputs": [
    {
     "data": {
      "text/plain": [
       "(array([  1.,   0.,   0.,   0.,   0.,   0.,   0.,   0.,   0.,   0.,   0.,\n",
       "          0.,   0.,   0.,   0.,   0.,   0.,   0.,   0.,   0.,   0.,   0.,\n",
       "          0.,   0.,   0.,   0.,   0.,   0.,   0.,   0.,   0.,   0.,   0.,\n",
       "          0.,   0.,   0.,   0.,   0.,   0.,   0.,   0.,   0.,   0.,   0.,\n",
       "          0.,   0.,   0.,   0.,   0.,   0.,   0.,   0.,   0.,   0.,   0.,\n",
       "          0.,   0.,   0.,   0.,   0.,   0.,   0.,   0.,   0.,   0.,   0.,\n",
       "          0.,   0.,   0.,   0.,   0.,   0.,   1.,   1.,   0.,   0.,   0.,\n",
       "          0.,   0.,   0.,   0.,   0.,   0.,   0.,   0.,   0.,   0.,   0.,\n",
       "          0.,   0.,   0.,   0.,   0.,   0.,   0.,   0.,   0.,   0.,   0.,\n",
       "          0.,   0.,   1.,   1.,   0.,   0.,   0.,   1.,   0.,   0.,   0.,\n",
       "          0.,   0.,   0.,   0.,   0.,   0.,   1.,   0.,   0.,   0.,   1.,\n",
       "          0.,   0.,   1.,   0.,   1.,   0.,   0.,   0.,   0.,   0.,   0.,\n",
       "          1.,   1.,   0.,   1.,   1.,   2.,   0.,   0.,   0.,   0.,   1.,\n",
       "          1.,   0.,   0.,   1.,   1.,   1.,   0.,   2.,   1.,   0.,   1.,\n",
       "          0.,   1.,   1.,   2.,   2.,   1.,   1.,   3.,   3.,   1.,   0.,\n",
       "          1.,   2.,   1.,   3.,   1.,   2.,   1.,   1.,   2.,   1.,   2.,\n",
       "          3.,   4.,   3.,   0.,   3.,   0.,   1.,   1.,   3.,   1.,   0.,\n",
       "          3.,   4.,   5.,   3.,   1.,   3.,   3.,   5.,   2.,   5.,   3.,\n",
       "          4.,   5.,   1.,   3.,   5.,   4.,   6.,   7.,   2.,   7.,   7.,\n",
       "          3.,   4.,   7.,   5.,   4.,   4.,   3.,   5.,   2.,   6.,   7.,\n",
       "          5.,   3.,   4.,   7.,   2.,   5.,  11.,   8.,  13.,   6.,   5.,\n",
       "          9.,  10.,   5.,   9.,  13.,   8.,  10.,   8.,  11.,  12.,  15.,\n",
       "          8.,  12.,   7.,   7.,   8.,  12.,  15.,  10.,  18.,  17.,  15.,\n",
       "         13.,  18.,  14.,  10.,  12.,  18.,  20.,  23.,  20.,  21.,  17.,\n",
       "         25.,  21.,  21.,  21.,  16.,  26.,  15.,  23.,  24.,  23.,  21.,\n",
       "         27.,  26.,  21.,  23.,  25.,  31.,  24.,  23.,  28.,  35.,  24.,\n",
       "         34.,  36.,  26.,  30.,  27.,  31.,  40.,  29.,  36.,  37.,  38.,\n",
       "         45.,  33.,  37.,  44.,  27.,  48.,  34.,  46.,  42.,  46.,  38.,\n",
       "         46.,  53.,  46.,  63.,  50.,  64.,  55.,  62.,  44.,  55.,  51.,\n",
       "         48.,  69.,  37.,  55.,  49.,  49.,  50.,  75.,  73.,  65.,  76.,\n",
       "         57.,  68.,  64.,  57.,  85.,  70.,  75.,  71.,  75.,  79.,  79.,\n",
       "         79.,  85.,  76.,  68., 100.,  88.,  81.,  83.,  97., 110.,  97.,\n",
       "         96., 102., 105.,  93.,  88., 110., 118.,  85., 124., 106., 105.,\n",
       "        103., 113., 112.,  99., 138., 127., 114., 121., 134., 145., 141.,\n",
       "        143., 130., 142., 147., 127., 139., 141., 146., 147., 159., 142.,\n",
       "        147., 138., 153., 152., 153., 153., 161., 167., 185., 164., 162.,\n",
       "        197., 201., 172., 173., 185., 187., 148., 167., 209., 189., 196.,\n",
       "        170., 202., 180., 186., 199., 201., 243., 204., 226., 233., 215.,\n",
       "        193., 205., 225., 200., 229., 243., 214., 246., 204., 232., 209.,\n",
       "        236., 233., 230., 245., 244., 270., 225., 237., 265., 249., 248.,\n",
       "        288., 251., 273., 238., 241., 300., 263., 283., 283., 297., 272.,\n",
       "        269., 263., 274., 303., 296., 297., 294., 290., 305., 292., 296.,\n",
       "        316., 296., 302., 314., 305., 316., 301., 313., 293., 315., 322.,\n",
       "        321., 326., 342., 332., 305., 317., 351., 354., 366., 340., 306.,\n",
       "        364., 329., 343., 350., 334., 351., 376., 351., 372., 333., 349.,\n",
       "        362., 334., 358., 345., 351., 371., 325., 361., 349., 356., 372.,\n",
       "        338., 364., 322., 372., 366., 337., 364., 385., 379., 384., 358.,\n",
       "        358., 368., 381., 382., 365., 384., 401., 366., 360., 383., 377.,\n",
       "        352., 383., 384., 384., 354., 368., 340., 354., 399., 403., 372.,\n",
       "        389., 375., 340., 381., 370., 338., 389., 382., 347., 400., 343.,\n",
       "        377., 370., 342., 355., 365., 358., 354., 346., 296., 343., 346.,\n",
       "        316., 364., 326., 371., 355., 334., 325., 352., 365., 348., 353.,\n",
       "        333., 347., 334., 345., 356., 347., 355., 360., 352., 317., 322.,\n",
       "        342., 333., 310., 329., 317., 308., 322., 339., 323., 305., 342.,\n",
       "        339., 283., 291., 318., 313., 266., 297., 285., 302., 288., 290.,\n",
       "        281., 290., 299., 288., 271., 252., 248., 275., 256., 293., 252.,\n",
       "        293., 298., 264., 283., 261., 229., 242., 259., 247., 250., 255.,\n",
       "        248., 240., 237., 245., 251., 241., 241., 249., 214., 224., 220.,\n",
       "        226., 238., 219., 235., 242., 222., 171., 214., 209., 228., 201.,\n",
       "        225., 211., 191., 180., 189., 184., 173., 175., 200., 155., 170.,\n",
       "        186., 169., 174., 185., 185., 156., 155., 159., 156., 172., 158.,\n",
       "        152., 161., 170., 140., 143., 151., 144., 140., 129., 130., 122.,\n",
       "        142., 135., 119., 114., 113., 121., 139., 135., 125., 124., 123.,\n",
       "         98., 116., 116., 130., 121., 110., 106.,  96., 106., 104., 100.,\n",
       "         88.,  84.,  98.,  87.,  80., 103.,  91.,  90., 104., 110.,  90.,\n",
       "         82.,  93.,  83.,  91.,  83.,  90.,  78.,  84.,  78.,  78.,  63.,\n",
       "         77.,  65.,  58.,  68.,  68.,  59.,  62.,  56.,  70.,  46.,  62.,\n",
       "         49.,  48.,  45.,  50.,  61.,  57.,  54.,  49.,  46.,  58.,  52.,\n",
       "         46.,  49.,  46.,  48.,  49.,  53.,  50.,  46.,  55.,  44.,  34.,\n",
       "         30.,  35.,  45.,  32.,  34.,  41.,  41.,  33.,  35.,  27.,  28.,\n",
       "         32.,  20.,  33.,  35.,  22.,  26.,  29.,  32.,  20.,  22.,  21.,\n",
       "         30.,  28.,  20.,  26.,  19.,  23.,  22.,  24.,  24.,  11.,  29.,\n",
       "         17.,  23.,  23.,  14.,  17.,   9.,  16.,  19.,  15.,  12.,  19.,\n",
       "         14.,  12.,  18.,  13.,  16.,  17.,  13.,  17.,  18.,   5.,  10.,\n",
       "          5.,  14.,   9.,  11.,  10.,  10.,  11.,   9.,   9.,   6.,  10.,\n",
       "         10.,   7.,   5.,   4.,   9.,   2.,   4.,   6.,   7.,   2.,   3.,\n",
       "          9.,  10.,   7.,   6.,  10.,   5.,   9.,   4.,   7.,   8.,   3.,\n",
       "          4.,   6.,   5.,   5.,   4.,   4.,   6.,   4.,   6.,   5.,   2.,\n",
       "          4.,   3.,   4.,   1.,   2.,   3.,   4.,   3.,   0.,   1.,   2.,\n",
       "          4.,   3.,   1.,   2.,   5.,   3.,   5.,   4.,   0.,   3.,   2.,\n",
       "          0.,   1.,   1.,   1.,   2.,   3.,   4.,   0.,   2.,   1.,   0.,\n",
       "          2.,   1.,   0.,   0.,   1.,   1.,   0.,   0.,   4.,   2.,   2.,\n",
       "          1.,   1.,   1.,   2.,   1.,   1.,   1.,   0.,   0.,   3.,   0.,\n",
       "          0.,   0.,   3.,   2.,   0.,   0.,   2.,   2.,   0.,   1.,   1.,\n",
       "          1.,   2.,   2.,   0.,   2.,   1.,   0.,   0.,   0.,   0.,   0.,\n",
       "          0.,   0.,   0.,   1.,   0.,   1.,   0.,   0.,   0.,   1.,   0.,\n",
       "          0.,   1.,   0.,   0.,   0.,   0.,   0.,   1.,   0.,   0.,   1.,\n",
       "          0.,   0.,   0.,   0.,   0.,   0.,   0.,   0.,   0.,   0.,   0.,\n",
       "          0.,   1.,   0.,   0.,   0.,   0.,   0.,   0.,   0.,   0.,   0.,\n",
       "          0.,   0.,   0.,   0.,   0.,   0.,   0.,   0.,   0.,   0.,   0.,\n",
       "          0.,   0.,   0.,   0.,   0.,   0.,   0.,   0.,   0.,   1.]),\n",
       " array([-4.89790212, -4.88865781, -4.87941351, ...,  4.32791098,\n",
       "         4.33715528,  4.34639958]),\n",
       " <a list of 1000 Patch objects>)"
      ]
     },
     "execution_count": 16,
     "metadata": {},
     "output_type": "execute_result"
    },
    {
     "data": {
      "image/png": "[encoded data removed]",
      "text/plain": [
       "<Figure size 720x720 with 1 Axes>"
      ]
     },
     "metadata": {
      "needs_background": "light"
     },
     "output_type": "display_data"
    }
   ],
   "source": [
    "fig = plt.figure(figsize=(10, 10))\n",
    "plt.title(\"random walk\", fontsize=20)\n",
    "plt.xlabel(\"Position\", fontsize=20)\n",
    "plt.ylabel(\"Probability\", fontsize=20)\n",
    "plt.hist(random_walk, 1000)"
   ]
  },
  {
   "cell_type": "code",
   "execution_count": null,
   "metadata": {},
   "outputs": [],
   "source": []
  }
 ],
 "metadata": {
  "jupytext": {
   "text_representation": {
    "extension": ".py",
    "format_name": "light",
    "format_version": "1.5",
    "jupytext_version": "1.3.3"
   }
  },
  "kernelspec": {
   "display_name": "Python 3",
   "language": "python",
   "name": "python3"
  },
  "varInspector": {
   "cols": {
    "lenName": 16,
    "lenType": 16,
    "lenVar": 40
   },
   "kernels_config": {
    "python": {
     "delete_cmd_postfix": "",
     "delete_cmd_prefix": "del ",
     "library": "var_list.py",
     "varRefreshCmd": "print(var_dic_list())"
    },
    "r": {
     "delete_cmd_postfix": ") ",
     "delete_cmd_prefix": "rm(",
     "library": "var_list.r",
     "varRefreshCmd": "cat(var_dic_list()) "
    }
   },
   "types_to_exclude": [
    "module",
    "function",
    "builtin_function_or_method",
    "instance",
    "_Feature"
   ],
   "window_display": false
  }
 },
 "nbformat": 4,
 "nbformat_minor": 4
}
